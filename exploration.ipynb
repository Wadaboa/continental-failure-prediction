{
 "cells": [
  {
   "cell_type": "code",
   "execution_count": 2,
   "metadata": {},
   "outputs": [],
   "source": [
    "import numpy as np\n",
    "import pandas as pd"
   ]
  },
  {
   "cell_type": "code",
   "execution_count": 3,
   "metadata": {},
   "outputs": [],
   "source": [
    "df1 = pd.read_csv(\"/Users/jobs/Downloads/bosch-production-line-performance/train_numeric.csv\", sep=\",\")"
   ]
  },
  {
   "cell_type": "code",
   "execution_count": 4,
   "metadata": {},
   "outputs": [
    {
     "output_type": "execute_result",
     "data": {
      "text/plain": "   Id  L0_S0_F0  L0_S0_F2  L0_S0_F4  L0_S0_F6  L0_S0_F8  L0_S0_F10  L0_S0_F12  \\\n0   4     0.030    -0.034    -0.197    -0.179     0.118      0.116     -0.015   \n1   6       NaN       NaN       NaN       NaN       NaN        NaN        NaN   \n2   7     0.088     0.086     0.003    -0.052     0.161      0.025     -0.015   \n3   9    -0.036    -0.064     0.294     0.330     0.074      0.161      0.022   \n4  11    -0.055    -0.086     0.294     0.330     0.118      0.025      0.030   \n\n   L0_S0_F14  L0_S0_F16  ...  L3_S50_F4245  L3_S50_F4247  L3_S50_F4249  \\\n0     -0.032      0.020  ...           NaN           NaN           NaN   \n1        NaN        NaN  ...           NaN           NaN           NaN   \n2     -0.072     -0.225  ...           NaN           NaN           NaN   \n3      0.128     -0.026  ...           NaN           NaN           NaN   \n4      0.168     -0.169  ...           NaN           NaN           NaN   \n\n   L3_S50_F4251  L3_S50_F4253  L3_S51_F4256  L3_S51_F4258  L3_S51_F4260  \\\n0           NaN           NaN           NaN           NaN           NaN   \n1           NaN           NaN           NaN           NaN           NaN   \n2           NaN           NaN           NaN           NaN           NaN   \n3           NaN           NaN           NaN           NaN           NaN   \n4           NaN           NaN           NaN           NaN           NaN   \n\n   L3_S51_F4262  Response  \n0           NaN         0  \n1           NaN         0  \n2           NaN         0  \n3           NaN         0  \n4           NaN         0  \n\n[5 rows x 970 columns]",
      "text/html": "<div>\n<style scoped>\n    .dataframe tbody tr th:only-of-type {\n        vertical-align: middle;\n    }\n\n    .dataframe tbody tr th {\n        vertical-align: top;\n    }\n\n    .dataframe thead th {\n        text-align: right;\n    }\n</style>\n<table border=\"1\" class=\"dataframe\">\n  <thead>\n    <tr style=\"text-align: right;\">\n      <th></th>\n      <th>Id</th>\n      <th>L0_S0_F0</th>\n      <th>L0_S0_F2</th>\n      <th>L0_S0_F4</th>\n      <th>L0_S0_F6</th>\n      <th>L0_S0_F8</th>\n      <th>L0_S0_F10</th>\n      <th>L0_S0_F12</th>\n      <th>L0_S0_F14</th>\n      <th>L0_S0_F16</th>\n      <th>...</th>\n      <th>L3_S50_F4245</th>\n      <th>L3_S50_F4247</th>\n      <th>L3_S50_F4249</th>\n      <th>L3_S50_F4251</th>\n      <th>L3_S50_F4253</th>\n      <th>L3_S51_F4256</th>\n      <th>L3_S51_F4258</th>\n      <th>L3_S51_F4260</th>\n      <th>L3_S51_F4262</th>\n      <th>Response</th>\n    </tr>\n  </thead>\n  <tbody>\n    <tr>\n      <th>0</th>\n      <td>4</td>\n      <td>0.030</td>\n      <td>-0.034</td>\n      <td>-0.197</td>\n      <td>-0.179</td>\n      <td>0.118</td>\n      <td>0.116</td>\n      <td>-0.015</td>\n      <td>-0.032</td>\n      <td>0.020</td>\n      <td>...</td>\n      <td>NaN</td>\n      <td>NaN</td>\n      <td>NaN</td>\n      <td>NaN</td>\n      <td>NaN</td>\n      <td>NaN</td>\n      <td>NaN</td>\n      <td>NaN</td>\n      <td>NaN</td>\n      <td>0</td>\n    </tr>\n    <tr>\n      <th>1</th>\n      <td>6</td>\n      <td>NaN</td>\n      <td>NaN</td>\n      <td>NaN</td>\n      <td>NaN</td>\n      <td>NaN</td>\n      <td>NaN</td>\n      <td>NaN</td>\n      <td>NaN</td>\n      <td>NaN</td>\n      <td>...</td>\n      <td>NaN</td>\n      <td>NaN</td>\n      <td>NaN</td>\n      <td>NaN</td>\n      <td>NaN</td>\n      <td>NaN</td>\n      <td>NaN</td>\n      <td>NaN</td>\n      <td>NaN</td>\n      <td>0</td>\n    </tr>\n    <tr>\n      <th>2</th>\n      <td>7</td>\n      <td>0.088</td>\n      <td>0.086</td>\n      <td>0.003</td>\n      <td>-0.052</td>\n      <td>0.161</td>\n      <td>0.025</td>\n      <td>-0.015</td>\n      <td>-0.072</td>\n      <td>-0.225</td>\n      <td>...</td>\n      <td>NaN</td>\n      <td>NaN</td>\n      <td>NaN</td>\n      <td>NaN</td>\n      <td>NaN</td>\n      <td>NaN</td>\n      <td>NaN</td>\n      <td>NaN</td>\n      <td>NaN</td>\n      <td>0</td>\n    </tr>\n    <tr>\n      <th>3</th>\n      <td>9</td>\n      <td>-0.036</td>\n      <td>-0.064</td>\n      <td>0.294</td>\n      <td>0.330</td>\n      <td>0.074</td>\n      <td>0.161</td>\n      <td>0.022</td>\n      <td>0.128</td>\n      <td>-0.026</td>\n      <td>...</td>\n      <td>NaN</td>\n      <td>NaN</td>\n      <td>NaN</td>\n      <td>NaN</td>\n      <td>NaN</td>\n      <td>NaN</td>\n      <td>NaN</td>\n      <td>NaN</td>\n      <td>NaN</td>\n      <td>0</td>\n    </tr>\n    <tr>\n      <th>4</th>\n      <td>11</td>\n      <td>-0.055</td>\n      <td>-0.086</td>\n      <td>0.294</td>\n      <td>0.330</td>\n      <td>0.118</td>\n      <td>0.025</td>\n      <td>0.030</td>\n      <td>0.168</td>\n      <td>-0.169</td>\n      <td>...</td>\n      <td>NaN</td>\n      <td>NaN</td>\n      <td>NaN</td>\n      <td>NaN</td>\n      <td>NaN</td>\n      <td>NaN</td>\n      <td>NaN</td>\n      <td>NaN</td>\n      <td>NaN</td>\n      <td>0</td>\n    </tr>\n  </tbody>\n</table>\n<p>5 rows × 970 columns</p>\n</div>"
     },
     "metadata": {},
     "execution_count": 4
    }
   ],
   "source": [
    "df1.head()"
   ]
  },
  {
   "cell_type": "code",
   "execution_count": null,
   "metadata": {},
   "outputs": [],
   "source": []
  }
 ],
 "metadata": {
  "language_info": {
   "codemirror_mode": {
    "name": "ipython",
    "version": 3
   },
   "file_extension": ".py",
   "mimetype": "text/x-python",
   "name": "python",
   "nbconvert_exporter": "python",
   "pygments_lexer": "ipython3",
   "version": 3
  },
  "orig_nbformat": 2,
  "kernelspec": {
   "name": "python_defaultSpec_1594977232900",
   "display_name": "Python 3.8.1 64-bit"
  }
 },
 "nbformat": 4,
 "nbformat_minor": 2
}