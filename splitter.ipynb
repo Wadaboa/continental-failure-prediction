{
 "metadata": {
  "language_info": {
   "codemirror_mode": {
    "name": "ipython",
    "version": 3
   },
   "file_extension": ".py",
   "mimetype": "text/x-python",
   "name": "python",
   "nbconvert_exporter": "python",
   "pygments_lexer": "ipython3",
   "version": 3
  },
  "orig_nbformat": 2,
  "kernelspec": {
   "name": "python_defaultSpec_1597994862488",
   "display_name": "Python 3.8.5 64-bit"
  }
 },
 "nbformat": 4,
 "nbformat_minor": 2,
 "cells": [
  {
   "cell_type": "code",
   "execution_count": 26,
   "metadata": {},
   "outputs": [],
   "source": [
    "import numpy as np\n",
    "import pandas as pd"
   ]
  },
  {
   "cell_type": "code",
   "execution_count": 8,
   "metadata": {},
   "outputs": [],
   "source": [
    "df = pd.read_csv('datasets/bosch/bosch.gz', compression='gzip', header=0, sep=',')"
   ]
  },
  {
   "cell_type": "code",
   "execution_count": 27,
   "metadata": {},
   "outputs": [
    {
     "output_type": "execute_result",
     "data": {
      "text/plain": "   Id  L0_S0_F0  L0_S0_F2  L0_S0_F4  L0_S0_F6  L0_S0_F8  L0_S0_F10  L0_S0_F12  \\\n0   4     0.030    -0.034    -0.197    -0.179     0.118      0.116     -0.015   \n1   6       NaN       NaN       NaN       NaN       NaN        NaN        NaN   \n2   7     0.088     0.086     0.003    -0.052     0.161      0.025     -0.015   \n3   9    -0.036    -0.064     0.294     0.330     0.074      0.161      0.022   \n4  11    -0.055    -0.086     0.294     0.330     0.118      0.025      0.030   \n\n   L0_S0_F14  L0_S0_F16  ...  L3_S50_F4245  L3_S50_F4247  L3_S50_F4249  \\\n0     -0.032      0.020  ...           NaN           NaN           NaN   \n1        NaN        NaN  ...           NaN           NaN           NaN   \n2     -0.072     -0.225  ...           NaN           NaN           NaN   \n3      0.128     -0.026  ...           NaN           NaN           NaN   \n4      0.168     -0.169  ...           NaN           NaN           NaN   \n\n   L3_S50_F4251  L3_S50_F4253  L3_S51_F4256  L3_S51_F4258  L3_S51_F4260  \\\n0           NaN           NaN           NaN           NaN           NaN   \n1           NaN           NaN           NaN           NaN           NaN   \n2           NaN           NaN           NaN           NaN           NaN   \n3           NaN           NaN           NaN           NaN           NaN   \n4           NaN           NaN           NaN           NaN           NaN   \n\n   L3_S51_F4262  Response  \n0           NaN         0  \n1           NaN         0  \n2           NaN         0  \n3           NaN         0  \n4           NaN         0  \n\n[5 rows x 970 columns]",
      "text/html": "<div>\n<style scoped>\n    .dataframe tbody tr th:only-of-type {\n        vertical-align: middle;\n    }\n\n    .dataframe tbody tr th {\n        vertical-align: top;\n    }\n\n    .dataframe thead th {\n        text-align: right;\n    }\n</style>\n<table border=\"1\" class=\"dataframe\">\n  <thead>\n    <tr style=\"text-align: right;\">\n      <th></th>\n      <th>Id</th>\n      <th>L0_S0_F0</th>\n      <th>L0_S0_F2</th>\n      <th>L0_S0_F4</th>\n      <th>L0_S0_F6</th>\n      <th>L0_S0_F8</th>\n      <th>L0_S0_F10</th>\n      <th>L0_S0_F12</th>\n      <th>L0_S0_F14</th>\n      <th>L0_S0_F16</th>\n      <th>...</th>\n      <th>L3_S50_F4245</th>\n      <th>L3_S50_F4247</th>\n      <th>L3_S50_F4249</th>\n      <th>L3_S50_F4251</th>\n      <th>L3_S50_F4253</th>\n      <th>L3_S51_F4256</th>\n      <th>L3_S51_F4258</th>\n      <th>L3_S51_F4260</th>\n      <th>L3_S51_F4262</th>\n      <th>Response</th>\n    </tr>\n  </thead>\n  <tbody>\n    <tr>\n      <th>0</th>\n      <td>4</td>\n      <td>0.030</td>\n      <td>-0.034</td>\n      <td>-0.197</td>\n      <td>-0.179</td>\n      <td>0.118</td>\n      <td>0.116</td>\n      <td>-0.015</td>\n      <td>-0.032</td>\n      <td>0.020</td>\n      <td>...</td>\n      <td>NaN</td>\n      <td>NaN</td>\n      <td>NaN</td>\n      <td>NaN</td>\n      <td>NaN</td>\n      <td>NaN</td>\n      <td>NaN</td>\n      <td>NaN</td>\n      <td>NaN</td>\n      <td>0</td>\n    </tr>\n    <tr>\n      <th>1</th>\n      <td>6</td>\n      <td>NaN</td>\n      <td>NaN</td>\n      <td>NaN</td>\n      <td>NaN</td>\n      <td>NaN</td>\n      <td>NaN</td>\n      <td>NaN</td>\n      <td>NaN</td>\n      <td>NaN</td>\n      <td>...</td>\n      <td>NaN</td>\n      <td>NaN</td>\n      <td>NaN</td>\n      <td>NaN</td>\n      <td>NaN</td>\n      <td>NaN</td>\n      <td>NaN</td>\n      <td>NaN</td>\n      <td>NaN</td>\n      <td>0</td>\n    </tr>\n    <tr>\n      <th>2</th>\n      <td>7</td>\n      <td>0.088</td>\n      <td>0.086</td>\n      <td>0.003</td>\n      <td>-0.052</td>\n      <td>0.161</td>\n      <td>0.025</td>\n      <td>-0.015</td>\n      <td>-0.072</td>\n      <td>-0.225</td>\n      <td>...</td>\n      <td>NaN</td>\n      <td>NaN</td>\n      <td>NaN</td>\n      <td>NaN</td>\n      <td>NaN</td>\n      <td>NaN</td>\n      <td>NaN</td>\n      <td>NaN</td>\n      <td>NaN</td>\n      <td>0</td>\n    </tr>\n    <tr>\n      <th>3</th>\n      <td>9</td>\n      <td>-0.036</td>\n      <td>-0.064</td>\n      <td>0.294</td>\n      <td>0.330</td>\n      <td>0.074</td>\n      <td>0.161</td>\n      <td>0.022</td>\n      <td>0.128</td>\n      <td>-0.026</td>\n      <td>...</td>\n      <td>NaN</td>\n      <td>NaN</td>\n      <td>NaN</td>\n      <td>NaN</td>\n      <td>NaN</td>\n      <td>NaN</td>\n      <td>NaN</td>\n      <td>NaN</td>\n      <td>NaN</td>\n      <td>0</td>\n    </tr>\n    <tr>\n      <th>4</th>\n      <td>11</td>\n      <td>-0.055</td>\n      <td>-0.086</td>\n      <td>0.294</td>\n      <td>0.330</td>\n      <td>0.118</td>\n      <td>0.025</td>\n      <td>0.030</td>\n      <td>0.168</td>\n      <td>-0.169</td>\n      <td>...</td>\n      <td>NaN</td>\n      <td>NaN</td>\n      <td>NaN</td>\n      <td>NaN</td>\n      <td>NaN</td>\n      <td>NaN</td>\n      <td>NaN</td>\n      <td>NaN</td>\n      <td>NaN</td>\n      <td>0</td>\n    </tr>\n  </tbody>\n</table>\n<p>5 rows × 970 columns</p>\n</div>"
     },
     "metadata": {},
     "execution_count": 27
    }
   ],
   "source": [
    "df.head()"
   ]
  },
  {
   "cell_type": "code",
   "execution_count": 28,
   "metadata": {},
   "outputs": [
    {
     "output_type": "execute_result",
     "data": {
      "text/plain": "(1183747, 970)"
     },
     "metadata": {},
     "execution_count": 28
    }
   ],
   "source": [
    "df.shape"
   ]
  },
  {
   "cell_type": "code",
   "execution_count": 29,
   "metadata": {},
   "outputs": [],
   "source": [
    "failures = df.loc[df['Response'] == 1]"
   ]
  },
  {
   "cell_type": "code",
   "execution_count": 31,
   "metadata": {},
   "outputs": [
    {
     "output_type": "execute_result",
     "data": {
      "text/plain": "        Id  L0_S0_F0  L0_S0_F2  L0_S0_F4  L0_S0_F6  L0_S0_F8  L0_S0_F10  \\\n539   1053       NaN       NaN       NaN       NaN       NaN        NaN   \n633   1250     0.075     0.101    -0.179    -0.216    -0.013      0.070   \n681   1350     0.069     0.041     0.330     0.330    -0.100     -0.294   \n887   1793     0.003    -0.026     0.330     0.294     0.074      0.161   \n1152  2347    -0.114    -0.161     0.330     0.330    -0.013      0.116   \n\n      L0_S0_F12  L0_S0_F14  L0_S0_F16  ...  L3_S50_F4245  L3_S50_F4247  \\\n539         NaN        NaN        NaN  ...           NaN           NaN   \n633      -0.022     -0.152      0.087  ...           NaN           NaN   \n681       0.008      0.088     -0.092  ...           NaN           NaN   \n887       0.022      0.128     -0.199  ...           NaN           NaN   \n1152      0.045      0.288      0.036  ...           NaN           NaN   \n\n      L3_S50_F4249  L3_S50_F4251  L3_S50_F4253  L3_S51_F4256  L3_S51_F4258  \\\n539            NaN           NaN           NaN           NaN           NaN   \n633            NaN           NaN           NaN           NaN           NaN   \n681            NaN           NaN           NaN           NaN           NaN   \n887            NaN           NaN           NaN           NaN           NaN   \n1152           NaN           NaN           NaN           NaN           NaN   \n\n      L3_S51_F4260  L3_S51_F4262  Response  \n539            NaN           NaN         1  \n633            NaN           NaN         1  \n681            NaN           NaN         1  \n887            NaN           NaN         1  \n1152           NaN           NaN         1  \n\n[5 rows x 970 columns]",
      "text/html": "<div>\n<style scoped>\n    .dataframe tbody tr th:only-of-type {\n        vertical-align: middle;\n    }\n\n    .dataframe tbody tr th {\n        vertical-align: top;\n    }\n\n    .dataframe thead th {\n        text-align: right;\n    }\n</style>\n<table border=\"1\" class=\"dataframe\">\n  <thead>\n    <tr style=\"text-align: right;\">\n      <th></th>\n      <th>Id</th>\n      <th>L0_S0_F0</th>\n      <th>L0_S0_F2</th>\n      <th>L0_S0_F4</th>\n      <th>L0_S0_F6</th>\n      <th>L0_S0_F8</th>\n      <th>L0_S0_F10</th>\n      <th>L0_S0_F12</th>\n      <th>L0_S0_F14</th>\n      <th>L0_S0_F16</th>\n      <th>...</th>\n      <th>L3_S50_F4245</th>\n      <th>L3_S50_F4247</th>\n      <th>L3_S50_F4249</th>\n      <th>L3_S50_F4251</th>\n      <th>L3_S50_F4253</th>\n      <th>L3_S51_F4256</th>\n      <th>L3_S51_F4258</th>\n      <th>L3_S51_F4260</th>\n      <th>L3_S51_F4262</th>\n      <th>Response</th>\n    </tr>\n  </thead>\n  <tbody>\n    <tr>\n      <th>539</th>\n      <td>1053</td>\n      <td>NaN</td>\n      <td>NaN</td>\n      <td>NaN</td>\n      <td>NaN</td>\n      <td>NaN</td>\n      <td>NaN</td>\n      <td>NaN</td>\n      <td>NaN</td>\n      <td>NaN</td>\n      <td>...</td>\n      <td>NaN</td>\n      <td>NaN</td>\n      <td>NaN</td>\n      <td>NaN</td>\n      <td>NaN</td>\n      <td>NaN</td>\n      <td>NaN</td>\n      <td>NaN</td>\n      <td>NaN</td>\n      <td>1</td>\n    </tr>\n    <tr>\n      <th>633</th>\n      <td>1250</td>\n      <td>0.075</td>\n      <td>0.101</td>\n      <td>-0.179</td>\n      <td>-0.216</td>\n      <td>-0.013</td>\n      <td>0.070</td>\n      <td>-0.022</td>\n      <td>-0.152</td>\n      <td>0.087</td>\n      <td>...</td>\n      <td>NaN</td>\n      <td>NaN</td>\n      <td>NaN</td>\n      <td>NaN</td>\n      <td>NaN</td>\n      <td>NaN</td>\n      <td>NaN</td>\n      <td>NaN</td>\n      <td>NaN</td>\n      <td>1</td>\n    </tr>\n    <tr>\n      <th>681</th>\n      <td>1350</td>\n      <td>0.069</td>\n      <td>0.041</td>\n      <td>0.330</td>\n      <td>0.330</td>\n      <td>-0.100</td>\n      <td>-0.294</td>\n      <td>0.008</td>\n      <td>0.088</td>\n      <td>-0.092</td>\n      <td>...</td>\n      <td>NaN</td>\n      <td>NaN</td>\n      <td>NaN</td>\n      <td>NaN</td>\n      <td>NaN</td>\n      <td>NaN</td>\n      <td>NaN</td>\n      <td>NaN</td>\n      <td>NaN</td>\n      <td>1</td>\n    </tr>\n    <tr>\n      <th>887</th>\n      <td>1793</td>\n      <td>0.003</td>\n      <td>-0.026</td>\n      <td>0.330</td>\n      <td>0.294</td>\n      <td>0.074</td>\n      <td>0.161</td>\n      <td>0.022</td>\n      <td>0.128</td>\n      <td>-0.199</td>\n      <td>...</td>\n      <td>NaN</td>\n      <td>NaN</td>\n      <td>NaN</td>\n      <td>NaN</td>\n      <td>NaN</td>\n      <td>NaN</td>\n      <td>NaN</td>\n      <td>NaN</td>\n      <td>NaN</td>\n      <td>1</td>\n    </tr>\n    <tr>\n      <th>1152</th>\n      <td>2347</td>\n      <td>-0.114</td>\n      <td>-0.161</td>\n      <td>0.330</td>\n      <td>0.330</td>\n      <td>-0.013</td>\n      <td>0.116</td>\n      <td>0.045</td>\n      <td>0.288</td>\n      <td>0.036</td>\n      <td>...</td>\n      <td>NaN</td>\n      <td>NaN</td>\n      <td>NaN</td>\n      <td>NaN</td>\n      <td>NaN</td>\n      <td>NaN</td>\n      <td>NaN</td>\n      <td>NaN</td>\n      <td>NaN</td>\n      <td>1</td>\n    </tr>\n  </tbody>\n</table>\n<p>5 rows × 970 columns</p>\n</div>"
     },
     "metadata": {},
     "execution_count": 31
    }
   ],
   "source": [
    "failures.head()"
   ]
  },
  {
   "cell_type": "code",
   "execution_count": 32,
   "metadata": {
    "tags": []
   },
   "outputs": [
    {
     "output_type": "stream",
     "name": "stdout",
     "text": "(6879, 970)\n"
    }
   ],
   "source": [
    "r, c = failures.shape\n",
    "print((r, c))"
   ]
  },
  {
   "cell_type": "code",
   "execution_count": 33,
   "metadata": {},
   "outputs": [],
   "source": [
    "factor = 1\n",
    "goods = df.loc[df['Response'] == 0].sample(n=r * factor)"
   ]
  },
  {
   "cell_type": "code",
   "execution_count": 34,
   "metadata": {},
   "outputs": [
    {
     "output_type": "execute_result",
     "data": {
      "text/plain": "             Id  L0_S0_F0  L0_S0_F2  L0_S0_F4  L0_S0_F6  L0_S0_F8  L0_S0_F10  \\\n520533  1041728       NaN       NaN       NaN       NaN       NaN        NaN   \n407471   815501     0.043     0.026     0.003    -0.052     0.031      0.116   \n836490  1672876     0.206     0.190     0.003    -0.034     0.161      0.025   \n32708     65525     0.069     0.093     0.312     0.312    -0.100      0.025   \n584292  1169619    -0.088    -0.078    -0.161    -0.179     0.074     -0.066   \n\n        L0_S0_F12  L0_S0_F14  L0_S0_F16  ...  L3_S50_F4245  L3_S50_F4247  \\\n520533        NaN        NaN        NaN  ...           NaN           NaN   \n407471     -0.015     -0.032      0.005  ...           NaN           NaN   \n836490     -0.037     -0.152     -0.179  ...           NaN           NaN   \n32708       0.008      0.008     -0.077  ...           NaN           NaN   \n584292      0.008      0.008     -0.199  ...           NaN           NaN   \n\n        L3_S50_F4249  L3_S50_F4251  L3_S50_F4253  L3_S51_F4256  L3_S51_F4258  \\\n520533           NaN           NaN           NaN           0.0           0.0   \n407471           NaN           NaN           NaN           NaN           NaN   \n836490           NaN           NaN           NaN           NaN           NaN   \n32708            NaN           NaN           NaN           NaN           NaN   \n584292           NaN           NaN           NaN           NaN           NaN   \n\n        L3_S51_F4260  L3_S51_F4262  Response  \n520533           0.0           0.0         0  \n407471           NaN           NaN         0  \n836490           NaN           NaN         0  \n32708            NaN           NaN         0  \n584292           NaN           NaN         0  \n\n[5 rows x 970 columns]",
      "text/html": "<div>\n<style scoped>\n    .dataframe tbody tr th:only-of-type {\n        vertical-align: middle;\n    }\n\n    .dataframe tbody tr th {\n        vertical-align: top;\n    }\n\n    .dataframe thead th {\n        text-align: right;\n    }\n</style>\n<table border=\"1\" class=\"dataframe\">\n  <thead>\n    <tr style=\"text-align: right;\">\n      <th></th>\n      <th>Id</th>\n      <th>L0_S0_F0</th>\n      <th>L0_S0_F2</th>\n      <th>L0_S0_F4</th>\n      <th>L0_S0_F6</th>\n      <th>L0_S0_F8</th>\n      <th>L0_S0_F10</th>\n      <th>L0_S0_F12</th>\n      <th>L0_S0_F14</th>\n      <th>L0_S0_F16</th>\n      <th>...</th>\n      <th>L3_S50_F4245</th>\n      <th>L3_S50_F4247</th>\n      <th>L3_S50_F4249</th>\n      <th>L3_S50_F4251</th>\n      <th>L3_S50_F4253</th>\n      <th>L3_S51_F4256</th>\n      <th>L3_S51_F4258</th>\n      <th>L3_S51_F4260</th>\n      <th>L3_S51_F4262</th>\n      <th>Response</th>\n    </tr>\n  </thead>\n  <tbody>\n    <tr>\n      <th>520533</th>\n      <td>1041728</td>\n      <td>NaN</td>\n      <td>NaN</td>\n      <td>NaN</td>\n      <td>NaN</td>\n      <td>NaN</td>\n      <td>NaN</td>\n      <td>NaN</td>\n      <td>NaN</td>\n      <td>NaN</td>\n      <td>...</td>\n      <td>NaN</td>\n      <td>NaN</td>\n      <td>NaN</td>\n      <td>NaN</td>\n      <td>NaN</td>\n      <td>0.0</td>\n      <td>0.0</td>\n      <td>0.0</td>\n      <td>0.0</td>\n      <td>0</td>\n    </tr>\n    <tr>\n      <th>407471</th>\n      <td>815501</td>\n      <td>0.043</td>\n      <td>0.026</td>\n      <td>0.003</td>\n      <td>-0.052</td>\n      <td>0.031</td>\n      <td>0.116</td>\n      <td>-0.015</td>\n      <td>-0.032</td>\n      <td>0.005</td>\n      <td>...</td>\n      <td>NaN</td>\n      <td>NaN</td>\n      <td>NaN</td>\n      <td>NaN</td>\n      <td>NaN</td>\n      <td>NaN</td>\n      <td>NaN</td>\n      <td>NaN</td>\n      <td>NaN</td>\n      <td>0</td>\n    </tr>\n    <tr>\n      <th>836490</th>\n      <td>1672876</td>\n      <td>0.206</td>\n      <td>0.190</td>\n      <td>0.003</td>\n      <td>-0.034</td>\n      <td>0.161</td>\n      <td>0.025</td>\n      <td>-0.037</td>\n      <td>-0.152</td>\n      <td>-0.179</td>\n      <td>...</td>\n      <td>NaN</td>\n      <td>NaN</td>\n      <td>NaN</td>\n      <td>NaN</td>\n      <td>NaN</td>\n      <td>NaN</td>\n      <td>NaN</td>\n      <td>NaN</td>\n      <td>NaN</td>\n      <td>0</td>\n    </tr>\n    <tr>\n      <th>32708</th>\n      <td>65525</td>\n      <td>0.069</td>\n      <td>0.093</td>\n      <td>0.312</td>\n      <td>0.312</td>\n      <td>-0.100</td>\n      <td>0.025</td>\n      <td>0.008</td>\n      <td>0.008</td>\n      <td>-0.077</td>\n      <td>...</td>\n      <td>NaN</td>\n      <td>NaN</td>\n      <td>NaN</td>\n      <td>NaN</td>\n      <td>NaN</td>\n      <td>NaN</td>\n      <td>NaN</td>\n      <td>NaN</td>\n      <td>NaN</td>\n      <td>0</td>\n    </tr>\n    <tr>\n      <th>584292</th>\n      <td>1169619</td>\n      <td>-0.088</td>\n      <td>-0.078</td>\n      <td>-0.161</td>\n      <td>-0.179</td>\n      <td>0.074</td>\n      <td>-0.066</td>\n      <td>0.008</td>\n      <td>0.008</td>\n      <td>-0.199</td>\n      <td>...</td>\n      <td>NaN</td>\n      <td>NaN</td>\n      <td>NaN</td>\n      <td>NaN</td>\n      <td>NaN</td>\n      <td>NaN</td>\n      <td>NaN</td>\n      <td>NaN</td>\n      <td>NaN</td>\n      <td>0</td>\n    </tr>\n  </tbody>\n</table>\n<p>5 rows × 970 columns</p>\n</div>"
     },
     "metadata": {},
     "execution_count": 34
    }
   ],
   "source": [
    "goods.head()"
   ]
  },
  {
   "cell_type": "code",
   "execution_count": 35,
   "metadata": {},
   "outputs": [
    {
     "output_type": "execute_result",
     "data": {
      "text/plain": "(6879, 970)"
     },
     "metadata": {},
     "execution_count": 35
    }
   ],
   "source": [
    "goods.shape"
   ]
  },
  {
   "cell_type": "code",
   "execution_count": 36,
   "metadata": {},
   "outputs": [],
   "source": [
    "merged_df = pd.concat([goods, failures], ignore_index=True)"
   ]
  },
  {
   "cell_type": "code",
   "execution_count": 37,
   "metadata": {},
   "outputs": [
    {
     "output_type": "execute_result",
     "data": {
      "text/plain": "        Id  L0_S0_F0  L0_S0_F2  L0_S0_F4  L0_S0_F6  L0_S0_F8  L0_S0_F10  \\\n0  1041728       NaN       NaN       NaN       NaN       NaN        NaN   \n1   815501     0.043     0.026     0.003    -0.052     0.031      0.116   \n2  1672876     0.206     0.190     0.003    -0.034     0.161      0.025   \n3    65525     0.069     0.093     0.312     0.312    -0.100      0.025   \n4  1169619    -0.088    -0.078    -0.161    -0.179     0.074     -0.066   \n\n   L0_S0_F12  L0_S0_F14  L0_S0_F16  ...  L3_S50_F4245  L3_S50_F4247  \\\n0        NaN        NaN        NaN  ...           NaN           NaN   \n1     -0.015     -0.032      0.005  ...           NaN           NaN   \n2     -0.037     -0.152     -0.179  ...           NaN           NaN   \n3      0.008      0.008     -0.077  ...           NaN           NaN   \n4      0.008      0.008     -0.199  ...           NaN           NaN   \n\n   L3_S50_F4249  L3_S50_F4251  L3_S50_F4253  L3_S51_F4256  L3_S51_F4258  \\\n0           NaN           NaN           NaN           0.0           0.0   \n1           NaN           NaN           NaN           NaN           NaN   \n2           NaN           NaN           NaN           NaN           NaN   \n3           NaN           NaN           NaN           NaN           NaN   \n4           NaN           NaN           NaN           NaN           NaN   \n\n   L3_S51_F4260  L3_S51_F4262  Response  \n0           0.0           0.0         0  \n1           NaN           NaN         0  \n2           NaN           NaN         0  \n3           NaN           NaN         0  \n4           NaN           NaN         0  \n\n[5 rows x 970 columns]",
      "text/html": "<div>\n<style scoped>\n    .dataframe tbody tr th:only-of-type {\n        vertical-align: middle;\n    }\n\n    .dataframe tbody tr th {\n        vertical-align: top;\n    }\n\n    .dataframe thead th {\n        text-align: right;\n    }\n</style>\n<table border=\"1\" class=\"dataframe\">\n  <thead>\n    <tr style=\"text-align: right;\">\n      <th></th>\n      <th>Id</th>\n      <th>L0_S0_F0</th>\n      <th>L0_S0_F2</th>\n      <th>L0_S0_F4</th>\n      <th>L0_S0_F6</th>\n      <th>L0_S0_F8</th>\n      <th>L0_S0_F10</th>\n      <th>L0_S0_F12</th>\n      <th>L0_S0_F14</th>\n      <th>L0_S0_F16</th>\n      <th>...</th>\n      <th>L3_S50_F4245</th>\n      <th>L3_S50_F4247</th>\n      <th>L3_S50_F4249</th>\n      <th>L3_S50_F4251</th>\n      <th>L3_S50_F4253</th>\n      <th>L3_S51_F4256</th>\n      <th>L3_S51_F4258</th>\n      <th>L3_S51_F4260</th>\n      <th>L3_S51_F4262</th>\n      <th>Response</th>\n    </tr>\n  </thead>\n  <tbody>\n    <tr>\n      <th>0</th>\n      <td>1041728</td>\n      <td>NaN</td>\n      <td>NaN</td>\n      <td>NaN</td>\n      <td>NaN</td>\n      <td>NaN</td>\n      <td>NaN</td>\n      <td>NaN</td>\n      <td>NaN</td>\n      <td>NaN</td>\n      <td>...</td>\n      <td>NaN</td>\n      <td>NaN</td>\n      <td>NaN</td>\n      <td>NaN</td>\n      <td>NaN</td>\n      <td>0.0</td>\n      <td>0.0</td>\n      <td>0.0</td>\n      <td>0.0</td>\n      <td>0</td>\n    </tr>\n    <tr>\n      <th>1</th>\n      <td>815501</td>\n      <td>0.043</td>\n      <td>0.026</td>\n      <td>0.003</td>\n      <td>-0.052</td>\n      <td>0.031</td>\n      <td>0.116</td>\n      <td>-0.015</td>\n      <td>-0.032</td>\n      <td>0.005</td>\n      <td>...</td>\n      <td>NaN</td>\n      <td>NaN</td>\n      <td>NaN</td>\n      <td>NaN</td>\n      <td>NaN</td>\n      <td>NaN</td>\n      <td>NaN</td>\n      <td>NaN</td>\n      <td>NaN</td>\n      <td>0</td>\n    </tr>\n    <tr>\n      <th>2</th>\n      <td>1672876</td>\n      <td>0.206</td>\n      <td>0.190</td>\n      <td>0.003</td>\n      <td>-0.034</td>\n      <td>0.161</td>\n      <td>0.025</td>\n      <td>-0.037</td>\n      <td>-0.152</td>\n      <td>-0.179</td>\n      <td>...</td>\n      <td>NaN</td>\n      <td>NaN</td>\n      <td>NaN</td>\n      <td>NaN</td>\n      <td>NaN</td>\n      <td>NaN</td>\n      <td>NaN</td>\n      <td>NaN</td>\n      <td>NaN</td>\n      <td>0</td>\n    </tr>\n    <tr>\n      <th>3</th>\n      <td>65525</td>\n      <td>0.069</td>\n      <td>0.093</td>\n      <td>0.312</td>\n      <td>0.312</td>\n      <td>-0.100</td>\n      <td>0.025</td>\n      <td>0.008</td>\n      <td>0.008</td>\n      <td>-0.077</td>\n      <td>...</td>\n      <td>NaN</td>\n      <td>NaN</td>\n      <td>NaN</td>\n      <td>NaN</td>\n      <td>NaN</td>\n      <td>NaN</td>\n      <td>NaN</td>\n      <td>NaN</td>\n      <td>NaN</td>\n      <td>0</td>\n    </tr>\n    <tr>\n      <th>4</th>\n      <td>1169619</td>\n      <td>-0.088</td>\n      <td>-0.078</td>\n      <td>-0.161</td>\n      <td>-0.179</td>\n      <td>0.074</td>\n      <td>-0.066</td>\n      <td>0.008</td>\n      <td>0.008</td>\n      <td>-0.199</td>\n      <td>...</td>\n      <td>NaN</td>\n      <td>NaN</td>\n      <td>NaN</td>\n      <td>NaN</td>\n      <td>NaN</td>\n      <td>NaN</td>\n      <td>NaN</td>\n      <td>NaN</td>\n      <td>NaN</td>\n      <td>0</td>\n    </tr>\n  </tbody>\n</table>\n<p>5 rows × 970 columns</p>\n</div>"
     },
     "metadata": {},
     "execution_count": 37
    }
   ],
   "source": [
    "merged_df.head()"
   ]
  },
  {
   "cell_type": "code",
   "execution_count": 38,
   "metadata": {},
   "outputs": [
    {
     "output_type": "execute_result",
     "data": {
      "text/plain": "(13758, 970)"
     },
     "metadata": {},
     "execution_count": 38
    }
   ],
   "source": [
    "merged_df.shape"
   ]
  },
  {
   "cell_type": "code",
   "execution_count": 39,
   "metadata": {},
   "outputs": [],
   "source": [
    "merged_df.to_csv('datasets/bosch/bosch-less.data', index=False, sep=';')"
   ]
  }
 ]
}